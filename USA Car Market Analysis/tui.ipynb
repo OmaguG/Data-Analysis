{
 "cells": [
  {
   "cell_type": "code",
   "execution_count": null,
   "id": "9d95380d",
   "metadata": {},
   "outputs": [],
   "source": [
    "line_width = 100\n",
    "\n",
    "def welcome(msg=\"\"):\n",
    "    output = f\"Car Price Analysis Program started: {msg}\"\n",
    "    print('Hello ' + input('What is your name? ') + \", welcome to USA car market analysis program\")\n",
    "    art = \"*\" * line_width\n",
    "    print(f\"{art}\\n{output}\\n\")\n",
    "    \n",
    "def started(msg=\"\"):\n",
    "    output = f\"Query initiated: {msg}....\"\n",
    "    print(f\"\\n{output}\\n\")\n",
    "    \n",
    "def closing(msg=\"\"):\n",
    "    art = \"*\" * line_width\n",
    "    print(f\"Query completed.\\n{art}\")\n",
    "    \n",
    "def completion(msg=\"\"):\n",
    "    art = \"*\" * line_width\n",
    "    print(f\"{art}\\nThank you for using my car analysis program. GOODBYE!.\")\n",
    "\n",
    "def error(msg):\n",
    "    print(f\"Error! {msg}\\n\")\n",
    "    \n",
    "    \n",
    "def menu():\n",
    "    print(f\"\"\"Please select from the following options:\n",
    "    {\"[a]\"} Load data\n",
    "    {\"[b]\"} Retrieve a record for an individual car by id\n",
    "    {\"[c]\"} Retrieve all cars for a specified cylinder number\n",
    "    {\"[D]\"} Retrieve all cars in the specified car body\n",
    "    {\"[e]\"} Retrieve a specific number of columns (2 up to 5) related to an individual car by id\n",
    "    {\"[f]\"} Retrieve the car names alphabetically\n",
    "    {\"[g]\"} Retrieve summary of sales (total car price) for each car body\n",
    "    {\"[h]\"} Retrieve the top 5 car sale by price (the most expensive) and per car body\n",
    "    {\"[i]\"} Retrieve the detail of cars based on your own selection\n",
    "    {\"[j]\"} Display the number of cars per fuel system using a bar chart\n",
    "    {\"[k]\"} Display the horsepower of the top 5 car sale by price (the cheapest) using a subplot\n",
    "    {\"[l]\"} Display the selection of data by your choice to present the customers’ buying behaviour using a suitable visualisation\n",
    "    {\"[exit]\"} Exit Program\n",
    "    \"\"\")\n",
    "    menu_opt = input(\"Your selection: \")\n",
    "    return menu_opt.strip().lower()\n"
   ]
  },
  {
   "cell_type": "code",
   "execution_count": null,
   "id": "cfb99c24",
   "metadata": {},
   "outputs": [],
   "source": []
  }
 ],
 "metadata": {
  "kernelspec": {
   "display_name": "Python 3 (ipykernel)",
   "language": "python",
   "name": "python3"
  },
  "language_info": {
   "codemirror_mode": {
    "name": "ipython",
    "version": 3
   },
   "file_extension": ".py",
   "mimetype": "text/x-python",
   "name": "python",
   "nbconvert_exporter": "python",
   "pygments_lexer": "ipython3",
   "version": "3.9.12"
  }
 },
 "nbformat": 4,
 "nbformat_minor": 5
}
