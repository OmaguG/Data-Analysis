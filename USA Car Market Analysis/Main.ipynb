{
 "cells": [
  {
   "cell_type": "code",
   "execution_count": 1,
   "id": "3ea50bd7",
   "metadata": {},
   "outputs": [
    {
     "name": "stdout",
     "output_type": "stream",
     "text": [
      "What is your name? lo\n",
      "Hello lo, welcome to USA car market analysis program\n",
      "****************************************************************************************************\n",
      "Car Price Analysis Program started: \n",
      "\n",
      "Please select from the following options:\n",
      "    [a] Load data\n",
      "    [b] Retrieve a record for an individual car by id\n",
      "    [c] Retrieve all cars for a specified cylinder number\n",
      "    [D] Retrieve all cars in the specified car body\n",
      "    [e] Retrieve a specific number of columns (2 up to 5) related to an individual car by id\n",
      "    [f] Retrieve the car names alphabetically\n",
      "    [g] Retrieve summary of sales (total car price) for each car body\n",
      "    [h] Retrieve the top 5 car sale by price (the most expensive) and per car body\n",
      "    [i] Retrieve the detail of cars based on your own selection\n",
      "    [j] Display the number of cars per fuel system using a bar chart\n",
      "    [k] Display the horsepower of the top 5 car sale by price (the cheapest) using a subplot\n",
      "    [l] Display the selection of data by your choice to present the customers’ buying behaviour using a suitable visualisation\n",
      "    [exit] Exit Program\n",
      "    \n",
      "Your selection: k\n",
      "\n",
      "Query initiated: Displaying subplot for horsepower of top 5 car sale by price....\n",
      "\n"
     ]
    },
    {
     "data": {
      "image/png": "[encoded data removed]",
      "text/plain": [
       "<Figure size 1008x504 with 5 Axes>"
      ]
     },
     "metadata": {
      "needs_background": "light"
     },
     "output_type": "display_data"
    },
    {
     "name": "stdout",
     "output_type": "stream",
     "text": [
      "Query completed.\n",
      "****************************************************************************************************\n",
      "None\n",
      "Please select from the following options:\n",
      "    [a] Load data\n",
      "    [b] Retrieve a record for an individual car by id\n",
      "    [c] Retrieve all cars for a specified cylinder number\n",
      "    [D] Retrieve all cars in the specified car body\n",
      "    [e] Retrieve a specific number of columns (2 up to 5) related to an individual car by id\n",
      "    [f] Retrieve the car names alphabetically\n",
      "    [g] Retrieve summary of sales (total car price) for each car body\n",
      "    [h] Retrieve the top 5 car sale by price (the most expensive) and per car body\n",
      "    [i] Retrieve the detail of cars based on your own selection\n",
      "    [j] Display the number of cars per fuel system using a bar chart\n",
      "    [k] Display the horsepower of the top 5 car sale by price (the cheapest) using a subplot\n",
      "    [l] Display the selection of data by your choice to present the customers’ buying behaviour using a suitable visualisation\n",
      "    [exit] Exit Program\n",
      "    \n",
      "Your selection: exit\n",
      "End of session\n",
      "****************************************************************************************************\n",
      "Thank you for using my car analysis program. GOODBYE!.\n",
      "None\n"
     ]
    }
   ],
   "source": [
    "import csv\n",
    "import process\n",
    "import tui\n",
    "\n",
    "tui.welcome()\n",
    "    \n",
    "def run():\n",
    "    try:\n",
    "        while True:\n",
    "            menu_opt = tui.menu()\n",
    "            if menu_opt == \"a\":\n",
    "                print(process.a())\n",
    "            elif menu_opt == \"b\":\n",
    "                print(process.b())\n",
    "            elif menu_opt == \"c\":\n",
    "                print(process.c())\n",
    "            elif menu_opt == \"d\":\n",
    "                 print(process.d())\n",
    "            elif menu_opt == \"e\":\n",
    "                 print(process.e())\n",
    "            elif menu_opt == \"f\":\n",
    "                 print(process.f())\n",
    "            elif menu_opt == \"g\":\n",
    "                 print(process.g())\n",
    "            elif menu_opt == \"h\":\n",
    "                 print(process.h())\n",
    "            elif menu_opt == \"i\":\n",
    "                 print(process.i())\n",
    "            elif menu_opt == \"j\":\n",
    "                 print(process.j())\n",
    "            elif menu_opt == \"k\":\n",
    "                 print(process.k())\n",
    "            elif menu_opt == \"l\":\n",
    "                 print(process.l())\n",
    "            elif menu_opt == \"exit\":\n",
    "                print(\"End of session\")\n",
    "                print(tui.completion())\n",
    "                break\n",
    "            else:\n",
    "                tui.error(\"Invalid Selection!\") \n",
    "    except IOError:\n",
    "            print(\"menu block not responding\")      \n",
    "if __name__ == \"__main__\":\n",
    "    run()"
   ]
  },
  {
   "cell_type": "code",
   "execution_count": null,
   "id": "75af468c",
   "metadata": {},
   "outputs": [],
   "source": []
  },
  {
   "cell_type": "code",
   "execution_count": null,
   "id": "684d4c59",
   "metadata": {},
   "outputs": [],
   "source": []
  }
 ],
 "metadata": {
  "kernelspec": {
   "display_name": "Python 3 (ipykernel)",
   "language": "python",
   "name": "python3"
  },
  "language_info": {
   "codemirror_mode": {
    "name": "ipython",
    "version": 3
   },
   "file_extension": ".py",
   "mimetype": "text/x-python",
   "name": "python",
   "nbconvert_exporter": "python",
   "pygments_lexer": "ipython3",
   "version": "3.9.12"
  }
 },
 "nbformat": 4,
 "nbformat_minor": 5
}
