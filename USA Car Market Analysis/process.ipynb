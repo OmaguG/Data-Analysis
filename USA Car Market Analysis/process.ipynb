{
 "cells": [
  {
   "cell_type": "code",
   "execution_count": 1,
   "id": "46936301",
   "metadata": {},
   "outputs": [],
   "source": [
    "import csv\n",
    "import tui\n",
    "\n",
    "file_path = \"CarPrice.csv\"\n",
    "records = []\n",
    "\n",
    "try:\n",
    "    with open(file_path) as csv_file:\n",
    "        csv_reader = csv.reader(csv_file)\n",
    "        headings = next(csv_reader)\n",
    "        \n",
    "        for rows in csv_reader:\n",
    "            records.append(rows)\n",
    "except IOError:\n",
    "    print(\"File could not be read\")\n",
    "\n"
   ]
  },
  {
   "cell_type": "code",
   "execution_count": 3,
   "id": "0457fa67",
   "metadata": {},
   "outputs": [],
   "source": [
    "# A. Load the data from a CSV file\n",
    "def a():\n",
    "    tui.started(\"Loading records\")\n",
    "    for record in records:\n",
    "        rec = (f\"{len(records)} records loaded successfully\")\n",
    "        return rec\n",
    "        tui.closing()"
   ]
  },
  {
   "cell_type": "code",
   "execution_count": null,
   "id": "90c9635a",
   "metadata": {},
   "outputs": [],
   "source": [
    "# B. Retrieve a record for an individual car by id\n",
    "def b():\n",
    "    import pandas as pd\n",
    "    df = pd.read_csv(\"carPrice.csv\")\n",
    "    try:\n",
    "        tui.started(\"Retrieving record for individual cars\")\n",
    "        selection = input(\"What car ID information do you want (1-205)?\\n\")\n",
    "        carid = int(selection)\n",
    "        chosen_ID = df.iloc[carid -1] # -1 is used so the exact car_id on the csv is displayed and not the index number\n",
    "        return chosen_ID\n",
    "        tui.closing()\n",
    "    except IOError:\n",
    "        print(\"Invalid input pls try again\")"
   ]
  },
  {
   "cell_type": "code",
   "execution_count": null,
   "id": "f69bf69a",
   "metadata": {},
   "outputs": [],
   "source": [
    "# C. Retrieve all cars for a specified cylinder number\n",
    "def c():\n",
    "    import pandas as pd\n",
    "    df = pd.read_csv(\"carPrice.csv\")\n",
    "    tui.started(\"Retrieving all cars for a specified cylinder number\")\n",
    "    selection = input('Please select choice of car based on number of cylinder numbers(2,3,4,5,6,8,12)\\n')\n",
    "    try:\n",
    "        num = df.loc[df['cylindernumber'] ==int(selection)]\n",
    "        return num\n",
    "        tui.closing()\n",
    "    except:\n",
    "        print(\"Invalid input pls try again\")\n",
    "\n",
    "# it can also be displayed using; df.loc[df['cylindernumber'] ==int(selection)]"
   ]
  },
  {
   "cell_type": "code",
   "execution_count": null,
   "id": "1877a6e9",
   "metadata": {},
   "outputs": [],
   "source": [
    "# D. Retrieve all cars in the specified car body\n",
    "def d():\n",
    "    import pandas as pd\n",
    "    df = pd.read_csv(\"carPrice.csv\")\n",
    "    tui.started(\"Retrieving all cars based on specified car body\")\n",
    "    selection = input('Please select choice of car based on car body(convertible,hatchback,wagon,hardtop,sedan,)\\n')\n",
    "    try:\n",
    "        carbody = df.loc[df['carbody'] ==str(selection)]\n",
    "        return carbody\n",
    "        tui.closing()\n",
    "    except IOError:\n",
    "        print(\"Error! Please select the right input\")"
   ]
  },
  {
   "cell_type": "code",
   "execution_count": null,
   "id": "46514164",
   "metadata": {},
   "outputs": [],
   "source": [
    "# E. Retrieve a specific number of columns (2 up to 5) related to an individual car by id\n",
    "def e():\n",
    "    import pandas as pd\n",
    "    df = pd.read_csv(\"carPrice.csv\")\n",
    "    tui.started(\"Retrieving data based on specific columns\")\n",
    "    # Ask the user for the car ID\n",
    "    selection = int(input('Enter the car ID: '))\n",
    "    # Select the row with the specified car ID\n",
    "    car = df.loc[df['car_ID'] == selection]\n",
    "    # Select the car_id, carName, fueltype, drivewheel abd horspower\n",
    "    selected_columns = car[['CarName', 'fueltype', 'drivewheel', 'horsepower', 'price']]\n",
    "    # Print the selected columns\n",
    "    return selected_columns\n",
    "    tui.closing()\n"
   ]
  },
  {
   "cell_type": "code",
   "execution_count": null,
   "id": "e18916f4",
   "metadata": {},
   "outputs": [],
   "source": [
    "# F. Retrieve the car names alphabetically\n",
    "def f():\n",
    "    import pandas as pd\n",
    "    df = pd.read_csv(\"carPrice.csv\")\n",
    "    tui.started(\"Retrieving names of cars alphabetically\")\n",
    "    a_z = df.sort_values('car_ID')\n",
    "    return a_z\n",
    "    tui.closing()"
   ]
  },
  {
   "cell_type": "code",
   "execution_count": null,
   "id": "8fdf274d",
   "metadata": {},
   "outputs": [],
   "source": [
    "# Retrieve summary of sales (total car price) for each car body\n",
    "def g():\n",
    "    import pandas as pd\n",
    "    import numpy as np\n",
    "    df = pd.read_csv(\"carPrice.csv\")\n",
    "    # Group the DataFrame by car body\n",
    "    df_grouped = df.groupby('carbody')\n",
    "\n",
    "    # Define a function to select the top 5 car sales for each group\n",
    "    def top_5_sales(group):\n",
    "        return group.sort_values('price', ascending=False).head(5)\n",
    "\n",
    "    # Apply the function to each group and store the results in a new DataFrame\n",
    "    df_top5 = df_grouped.apply(top_5_sales)\n",
    "\n",
    "    # Print the resulting DataFrame\n",
    "    return df_top5\n",
    "    tui.closing()"
   ]
  },
  {
   "cell_type": "code",
   "execution_count": null,
   "id": "cbf99f8c",
   "metadata": {},
   "outputs": [],
   "source": [
    "# Retrieve top 5 car sales per car body\n",
    "def h():\n",
    "    import pandas as pd\n",
    "    df = pd.read_csv(\"carPrice.csv\")\n",
    "    tui.started(\"Retrieving top 5 car sales\")\n",
    "# Sort the data by price\n",
    "    sort = df.sort_values(by='price', ascending=False)\n",
    "# Group the sorted data according to car body\n",
    "    grouped = sort.groupby('carbody')\n",
    "    top_5 = grouped.head(1)\n",
    "#  Display result\n",
    "    return top_5\n",
    "    tui.closing()"
   ]
  },
  {
   "cell_type": "code",
   "execution_count": null,
   "id": "f6de6510",
   "metadata": {},
   "outputs": [],
   "source": [
    "# I. Retrieve the detail of cars based on your own selection\n",
    "def i():\n",
    "    import pandas as pd\n",
    "    df = pd.read_csv(\"carPrice.csv\")\n",
    "    tui.started(\"Retrieving details of cars based on drivewheel\")\n",
    "    # retrieving car details based on drivewheel(4wd)\n",
    "    drive_wheel = df.loc[df['drivewheel'] == '4wd']\n",
    "    return drive_wheel\n",
    "    tui.closing()\n"
   ]
  },
  {
   "cell_type": "code",
   "execution_count": null,
   "id": "8ff0e843",
   "metadata": {},
   "outputs": [],
   "source": [
    "\n",
    "# J.Display the number of cars per fuel system using a bar chart\n",
    "def j():\n",
    "    import pandas as pd\n",
    "    df = pd.read_csv(\"carPrice.csv\")\n",
    "    tui.started(\"Plotting bar chart for cars per fuel system\")\n",
    "    %matplotlib inline \n",
    "    import matplotlib.pyplot as plt\n",
    "# Group the DataFrame by fuel system and count the number of cars in each group\n",
    "    fuel_counts = df.groupby('fuelsystem')['fuelsystem'].count()\n",
    "# Generate a bar chart\n",
    "    fig = plt.figure(figsize=(15,8))\n",
    "    fuel_counts.plot(kind='bar')\n",
    "\n",
    "    plt.title('Cars per fuel system')\n",
    "# Show the plot\n",
    "    plt.show()\n",
    "    tui.closing()"
   ]
  },
  {
   "cell_type": "code",
   "execution_count": null,
   "id": "f12e1bd9",
   "metadata": {},
   "outputs": [],
   "source": [
    "# K.Display the horsepower of the top 5 car sale by price (the cheapest) using a subplot\n",
    "def k():\n",
    "    import pandas as pd \n",
    "    import matplotlib.pyplot as plt\n",
    "    %matplotlib inline\n",
    "    df = pd.read_csv(\"carPrice.csv\")\n",
    "    tui.started(\"Displaying subplot for horsepower of top 5 car sale by price\")\n",
    "     # Sort the DataFrame by price \n",
    "    fig, ax = plt.subplots(figsize=(14, 7)) #Setting a suitable fig size for the subplot\n",
    "    data_tmp = df.sort_values(by='price')[:5]\n",
    "    carname = data_tmp['CarName'].to_list()\n",
    "    hp = data_tmp['horsepower'].to_list()\n",
    "    plt.suptitle(\"Horsepower of top 5 car sale (Cheapest)\", fontsize=17)\n",
    "    for x in range(len(data_tmp['CarName'])): #iterate through the length to add new subplots\n",
    "        ax = plt.subplot(1, 5, x + 1)\n",
    "        ax.bar(carname[x],hp[x])\n",
    "        ax.set_ylim(0,100)\n",
    "    plt.show()\n",
    "    tui.closing()\n",
    "   "
   ]
  },
  {
   "cell_type": "code",
   "execution_count": 4,
   "id": "ba73d866",
   "metadata": {},
   "outputs": [],
   "source": [
    "# # L.Display percentage of car purchase in relation to horspower using pie chart\n",
    "def l():\n",
    "    import pandas as pd \n",
    "    import matplotlib.pyplot as plt\n",
    "    %matplotlib inline\n",
    "    df = pd.read_csv(\"carPrice.csv\")\n",
    "    tui.started(\"Displaying percentage of car purchase in relation to horsepower\")\n",
    "    df = pd.read_csv(\"carPrice.csv\")\n",
    "\n",
    "    # Extract the horsepower and price data\n",
    "    fuel = df['fueltype']\n",
    "    data = {'gas': 0, 'diesel': 0}\n",
    "    for ft in fuel:\n",
    "        data[ft] += 1\n",
    "    plt.figure(figsize=(7, 7))\n",
    "    plt.pie(data.values(), labels=data.keys())\n",
    "    plt.title(\"Pie chart showing the percentage of cars that use either gas or diesel\")\n",
    "    plt.legend(loc='upper right')\n",
    "    plt.show()\n",
    "    tui.closing()"
   ]
  },
  {
   "cell_type": "code",
   "execution_count": null,
   "id": "9fa2f6d1",
   "metadata": {},
   "outputs": [],
   "source": []
  }
 ],
 "metadata": {
  "kernelspec": {
   "display_name": "Python 3 (ipykernel)",
   "language": "python",
   "name": "python3"
  },
  "language_info": {
   "codemirror_mode": {
    "name": "ipython",
    "version": 3
   },
   "file_extension": ".py",
   "mimetype": "text/x-python",
   "name": "python",
   "nbconvert_exporter": "python",
   "pygments_lexer": "ipython3",
   "version": "3.9.12"
  }
 },
 "nbformat": 4,
 "nbformat_minor": 5
}
